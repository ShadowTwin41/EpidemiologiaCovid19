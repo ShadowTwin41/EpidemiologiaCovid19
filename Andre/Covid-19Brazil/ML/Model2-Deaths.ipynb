{
 "cells": [
  {
   "cell_type": "markdown",
   "metadata": {},
   "source": [
    "# Previsão do número de mortos para Brasil \n",
    "### Análise matemática simples do crescimento da infeção, em Python"
   ]
  },
  {
   "cell_type": "code",
   "execution_count": 1,
   "metadata": {},
   "outputs": [],
   "source": [
    "import pandas as pd\n",
    "import numpy as np\n",
    "from datetime import datetime,timedelta\n",
    "from sklearn.metrics import mean_squared_error\n",
    "from scipy.optimize import curve_fit\n",
    "from scipy.optimize import fsolve\n",
    "import matplotlib.pyplot as plt\n",
    "%matplotlib inline"
   ]
  },
  {
   "cell_type": "markdown",
   "metadata": {},
   "source": [
    "## Selecionar apenas os valores \"TOTAL\" do dataset, onde tem a soma de todas as zonas para um determinado dia"
   ]
  },
  {
   "cell_type": "code",
   "execution_count": 2,
   "metadata": {},
   "outputs": [
    {
     "name": "stdout",
     "output_type": "stream",
     "text": [
      "              date country  state   city  ibgeID  newDeaths  deaths  newCases  \\\n",
      "1       2020-02-25  Brazil  TOTAL  TOTAL       0          0       0         1   \n",
      "3       2020-02-26  Brazil  TOTAL  TOTAL       0          0       0         0   \n",
      "5       2020-02-27  Brazil  TOTAL  TOTAL       0          0       0         0   \n",
      "7       2020-02-28  Brazil  TOTAL  TOTAL       0          0       0         1   \n",
      "9       2020-02-29  Brazil  TOTAL  TOTAL       0          0       0         0   \n",
      "...            ...     ...    ...    ...     ...        ...     ...       ...   \n",
      "118538  2020-05-25  Brazil  TOTAL  TOTAL       0        731   23586     12912   \n",
      "122543  2020-05-26  Brazil  TOTAL  TOTAL       0       1052   24638     16227   \n",
      "126594  2020-05-27  Brazil  TOTAL  TOTAL       0       1054   25692     19769   \n",
      "130711  2020-05-28  Brazil  TOTAL  TOTAL       0       1168   26860     28592   \n",
      "134893  2020-05-29  Brazil  TOTAL  TOTAL       0       1146   28006     26423   \n",
      "\n",
      "        totalCases  deaths_per_100k_inhabitants  \\\n",
      "1                1                      0.00000   \n",
      "3                1                      0.00000   \n",
      "5                1                      0.00000   \n",
      "7                2                      0.00000   \n",
      "9                2                      0.00000   \n",
      "...            ...                          ...   \n",
      "118538      378839                     11.22357   \n",
      "122543      395066                     11.72417   \n",
      "126594      414835                     12.22572   \n",
      "130711      443427                     12.78152   \n",
      "134893      469850                     13.32685   \n",
      "\n",
      "        totalCases_per_100k_inhabitants  deaths_by_totalCases _source  \n",
      "1                               0.00048               0.00000     NaN  \n",
      "3                               0.00048               0.00000     NaN  \n",
      "5                               0.00048               0.00000     NaN  \n",
      "7                               0.00095               0.00000     NaN  \n",
      "9                               0.00095               0.00000     NaN  \n",
      "...                                 ...                   ...     ...  \n",
      "118538                        180.27323               0.06226     NaN  \n",
      "122543                        187.99496               0.06236     NaN  \n",
      "126594                        197.40218               0.06193     NaN  \n",
      "130711                        211.00788               0.06057     NaN  \n",
      "134893                        223.58146               0.05961     NaN  \n",
      "\n",
      "[95 rows x 13 columns]\n"
     ]
    }
   ],
   "source": [
    "# dataset obtido no github de wcota\n",
    "url = \"https://raw.githubusercontent.com/wcota/covid19br/master/cases-brazil-cities-time.csv\"\n",
    "df = pd.read_csv(url)\n",
    "df=df[df['state']=='TOTAL']\n",
    "print(df)"
   ]
  },
  {
   "cell_type": "markdown",
   "metadata": {},
   "source": [
    "## Data preparation\n",
    "#### Primeiro, precisamos alterar as datas em números. Considera-se os dias desde 2020-02-25"
   ]
  },
  {
   "cell_type": "code",
   "execution_count": 3,
   "metadata": {},
   "outputs": [],
   "source": [
    "df = df.loc[:,['date','deaths']]\n",
    "FMT = '%Y-%m-%d'\n",
    "date = df['date']\n",
    "df['date'] = date.map(lambda x : (datetime.strptime(x, FMT) - datetime.strptime(\"2020-02-25\", FMT)).days  )"
   ]
  },
  {
   "cell_type": "markdown",
   "metadata": {},
   "source": [
    "## The logistic model"
   ]
  },
  {
   "cell_type": "code",
   "execution_count": 4,
   "metadata": {},
   "outputs": [],
   "source": [
    "def logistic_model(x,a,b,c):\n",
    "    return c/(1+np.exp(-(x-b)/a))"
   ]
  },
  {
   "cell_type": "markdown",
   "metadata": {},
   "source": [
    "#### Podemos usar a função curve_fit da biblioteca scipy para estimar os valores e erros dos parâmetros a partir dos dados originais."
   ]
  },
  {
   "cell_type": "code",
   "execution_count": 5,
   "metadata": {},
   "outputs": [],
   "source": [
    "x = list(df.iloc[:,0])\n",
    "y = list(df.iloc[:,1])\n",
    "fit = curve_fit(logistic_model,x,y,p0=[2,100,20000])\n",
    "a,b,c=fit[0]\n"
   ]
  },
  {
   "cell_type": "markdown",
   "metadata": {},
   "source": [
    "#### A função também retorna a matriz de covariância, cujos valores diagonais são as variações dos parâmetros. Tomando a raiz quadrada, podemos calcular os erros padrão."
   ]
  },
  {
   "cell_type": "code",
   "execution_count": 6,
   "metadata": {},
   "outputs": [],
   "source": [
    "errors = [np.sqrt(fit[1][i][i]) for i in [0,1,2]]\n"
   ]
  },
  {
   "cell_type": "markdown",
   "metadata": {},
   "source": [
    "#### Podemos usar a função fsolve do scipy para encontrar numericamente a raiz da equação que define o dia final da infecção."
   ]
  },
  {
   "cell_type": "code",
   "execution_count": 7,
   "metadata": {},
   "outputs": [],
   "source": [
    "sol = int(fsolve(lambda x : logistic_model(x,a,b,c) - int(c),b))\n"
   ]
  },
  {
   "cell_type": "markdown",
   "metadata": {},
   "source": [
    "## Exponential model\n",
    "#### Vamos definir a função no Python e executar o mesmo procedimento de ajuste de curva usado para o crescimento logístico."
   ]
  },
  {
   "cell_type": "code",
   "execution_count": 8,
   "metadata": {},
   "outputs": [
    {
     "name": "stderr",
     "output_type": "stream",
     "text": [
      "C:\\OSGEO4~1\\apps\\Python37\\lib\\site-packages\\scipy\\optimize\\minpack.py:808: OptimizeWarning: Covariance of the parameters could not be estimated\n",
      "  category=OptimizeWarning)\n"
     ]
    }
   ],
   "source": [
    "def exponential_model(x,a,b,c):\n",
    "    return a*np.exp(b*(x-c))\n",
    "exp_fit = curve_fit(exponential_model,x,y,p0=[1,1,1], maxfev=3000)"
   ]
  },
  {
   "cell_type": "markdown",
   "metadata": {},
   "source": [
    "## Plots\n",
    "#### Agora temos todos os dados necessários para visualizar nossos resultados."
   ]
  },
  {
   "cell_type": "code",
   "execution_count": 9,
   "metadata": {},
   "outputs": [
    {
     "data": {
      "image/png": "[encoded data removed]",
      "text/plain": [
       "<Figure size 720x720 with 1 Axes>"
      ]
     },
     "metadata": {
      "needs_background": "light"
     },
     "output_type": "display_data"
    }
   ],
   "source": [
    "pred_x = list(range(max(x),sol))\n",
    "plt.rcParams['figure.figsize'] = [10, 10]\n",
    "plt.rc('font', size=14)\n",
    "# Real data\n",
    "plt.scatter(x,y,label=\"Real data\",color=\"red\")\n",
    "# Predicted logistic curve\n",
    "plt.plot(x+pred_x, [logistic_model(i,fit[0][0],fit[0][1],fit[0][2]) for i in x+pred_x], label=\"Logistic model\" )\n",
    "# Predicted exponential curve\n",
    "plt.plot(x+pred_x, [exponential_model(i,exp_fit[0][0],exp_fit[0][1],exp_fit[0][2]) for i in x+pred_x], label=\"Exponential model\" )\n",
    "plt.legend()\n",
    "plt.xlabel(\"Days since 25 February 2020\")\n",
    "plt.ylabel(\"Total number of death people\")\n",
    "#plt.ylim((min(y)*0.9,c*1.1))\n",
    "plt.yscale('log')\n",
    "plt.savefig('Model2-Deaths.png')\n",
    "plt.show()"
   ]
  },
  {
   "cell_type": "markdown",
   "metadata": {},
   "source": [
    "#### Verifica-se que o modelo prevê que o número de mortos irá crescer até uma assintota situada entre 30.000 e 40.000 mortos"
   ]
  },
  {
   "cell_type": "code",
   "execution_count": 10,
   "metadata": {},
   "outputs": [
    {
     "name": "stdout",
     "output_type": "stream",
     "text": [
      "Logistic mean_squared_error 40325.19440584824\n",
      "Exponential mean_squared_error 523806.1279153478\n"
     ]
    }
   ],
   "source": [
    "y_pred_logistic = [logistic_model(i,fit[0][0],fit[0][1],fit[0][2]) for i in x]\n",
    "y_pred_exp =  [exponential_model(i,exp_fit[0][0], exp_fit[0][1], exp_fit[0][2]) for i in x]\n",
    "print(\"Logistic mean_squared_error\",mean_squared_error(y,y_pred_logistic))\n",
    "print(\"Exponential mean_squared_error\",mean_squared_error(y,y_pred_exp))"
   ]
  },
  {
   "cell_type": "code",
   "execution_count": null,
   "metadata": {},
   "outputs": [],
   "source": []
  },
  {
   "cell_type": "code",
   "execution_count": null,
   "metadata": {},
   "outputs": [],
   "source": []
  },
  {
   "cell_type": "code",
   "execution_count": null,
   "metadata": {},
   "outputs": [],
   "source": []
  }
 ],
 "metadata": {
  "kernelspec": {
   "display_name": "Python 3",
   "language": "python",
   "name": "python3"
  },
  "language_info": {
   "codemirror_mode": {
    "name": "ipython",
    "version": 3
   },
   "file_extension": ".py",
   "mimetype": "text/x-python",
   "name": "python",
   "nbconvert_exporter": "python",
   "pygments_lexer": "ipython3",
   "version": "3.7.0"
  }
 },
 "nbformat": 4,
 "nbformat_minor": 2
}
