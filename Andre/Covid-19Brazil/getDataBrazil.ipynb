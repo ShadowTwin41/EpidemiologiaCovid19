{
 "cells": [
  {
   "cell_type": "code",
   "execution_count": 77,
   "metadata": {},
   "outputs": [],
   "source": [
    "# -*- coding: utf-8 -*-"
   ]
  },
  {
   "cell_type": "markdown",
   "metadata": {},
   "source": [
    "# Download Files CSV to use - https://github.com/wcota/covid19br - Great Work\n"
   ]
  },
  {
   "cell_type": "code",
   "execution_count": 78,
   "metadata": {},
   "outputs": [
    {
     "data": {
      "text/plain": [
       "['Requirement already satisfied: ipython-sql in c:\\\\osgeo4~1\\\\apps\\\\python37\\\\lib\\\\site-packages (0.3.9)',\n",
       " 'Requirement already satisfied: sqlparse in c:\\\\osgeo4~1\\\\apps\\\\python37\\\\lib\\\\site-packages (from ipython-sql) (0.3.1)',\n",
       " 'Requirement already satisfied: sqlalchemy>=0.6.7 in c:\\\\osgeo4~1\\\\apps\\\\python37\\\\lib\\\\site-packages (from ipython-sql) (1.3.16)',\n",
       " 'Requirement already satisfied: ipython>=1.0 in c:\\\\osgeo4~1\\\\apps\\\\python37\\\\lib\\\\site-packages (from ipython-sql) (7.13.0)',\n",
       " 'Requirement already satisfied: prettytable in c:\\\\osgeo4~1\\\\apps\\\\python37\\\\lib\\\\site-packages (from ipython-sql) (0.7.2)',\n",
       " 'Requirement already satisfied: six in c:\\\\users\\\\andre\\\\appdata\\\\roaming\\\\python\\\\python37\\\\site-packages (from ipython-sql) (1.12.0)',\n",
       " 'Requirement already satisfied: ipython-genutils>=0.1.0 in c:\\\\osgeo4~1\\\\apps\\\\python37\\\\lib\\\\site-packages (from ipython-sql) (0.2.0)',\n",
       " 'Requirement already satisfied: setuptools>=18.5 in c:\\\\osgeo4~1\\\\apps\\\\python37\\\\lib\\\\site-packages (from ipython>=1.0->ipython-sql) (45.2.0)',\n",
       " 'Requirement already satisfied: jedi>=0.10 in c:\\\\osgeo4~1\\\\apps\\\\python37\\\\lib\\\\site-packages (from ipython>=1.0->ipython-sql) (0.17.0)',\n",
       " 'Requirement already satisfied: pickleshare in c:\\\\osgeo4~1\\\\apps\\\\python37\\\\lib\\\\site-packages (from ipython>=1.0->ipython-sql) (0.7.5)',\n",
       " 'Requirement already satisfied: backcall in c:\\\\osgeo4~1\\\\apps\\\\python37\\\\lib\\\\site-packages (from ipython>=1.0->ipython-sql) (0.1.0)',\n",
       " 'Requirement already satisfied: decorator in c:\\\\osgeo4~1\\\\apps\\\\python37\\\\lib\\\\site-packages (from ipython>=1.0->ipython-sql) (4.4.1)',\n",
       " 'Requirement already satisfied: colorama; sys_platform == \"win32\" in c:\\\\users\\\\andre\\\\appdata\\\\roaming\\\\python\\\\python37\\\\site-packages (from ipython>=1.0->ipython-sql) (0.4.1)',\n",
       " 'Requirement already satisfied: prompt-toolkit!=3.0.0,!=3.0.1,<3.1.0,>=2.0.0 in c:\\\\osgeo4~1\\\\apps\\\\python37\\\\lib\\\\site-packages (from ipython>=1.0->ipython-sql) (3.0.5)',\n",
       " 'Requirement already satisfied: pygments in c:\\\\osgeo4~1\\\\apps\\\\python37\\\\lib\\\\site-packages (from ipython>=1.0->ipython-sql) (2.5.2)',\n",
       " 'Requirement already satisfied: traitlets>=4.2 in c:\\\\osgeo4~1\\\\apps\\\\python37\\\\lib\\\\site-packages (from ipython>=1.0->ipython-sql) (4.3.3)',\n",
       " 'Requirement already satisfied: parso>=0.7.0 in c:\\\\osgeo4~1\\\\apps\\\\python37\\\\lib\\\\site-packages (from jedi>=0.10->ipython>=1.0->ipython-sql) (0.7.0)',\n",
       " 'Requirement already satisfied: wcwidth in c:\\\\osgeo4~1\\\\apps\\\\python37\\\\lib\\\\site-packages (from prompt-toolkit!=3.0.0,!=3.0.1,<3.1.0,>=2.0.0->ipython>=1.0->ipython-sql) (0.1.9)',\n",
       " 'WARNING: You are using pip version 20.0.2; however, version 20.1.1 is available.',\n",
       " \"You should consider upgrading via the 'c:\\\\osgeo4~1\\\\bin\\\\python3.exe -m pip install --upgrade pip' command.\"]"
      ]
     },
     "execution_count": 78,
     "metadata": {},
     "output_type": "execute_result"
    }
   ],
   "source": [
    "%%!\n",
    "pip install --trusted-host pypi.org ipython-sql\n",
    "%%!\n",
    "pip install wget\n",
    "%%!\n",
    "pip install psycopg2"
   ]
  },
  {
   "cell_type": "code",
   "execution_count": 46,
   "metadata": {},
   "outputs": [],
   "source": [
    "#Just to first time run\n",
    "lastd=9\n",
    "lastm=5\n",
    "lasty=2020"
   ]
  },
  {
   "cell_type": "code",
   "execution_count": 47,
   "metadata": {},
   "outputs": [
    {
     "name": "stdout",
     "output_type": "stream",
     "text": [
      "9\n",
      "30\n",
      "-1 / unknown........................................................................] 22090 / 22090\n",
      "Successfully downloaded\n"
     ]
    }
   ],
   "source": [
    "import wget\n",
    "import os\n",
    "from datetime import datetime\n",
    "\n",
    "url = \"https://raw.githubusercontent.com/wcota/covid19br/master/cases-brazil-total.csv\"\n",
    "url2 = \"https://github.com/wcota/covid19br/raw/master/cases-brazil-cities.csv\"\n",
    "filePath='C:/OSGeo4W64/bin/Andre/Covid-19Brazil/Tables/cases-brazil-total.csv'\n",
    "filePath2='C:/OSGeo4W64/bin/Andre/Covid-19Brazil/Tables/cases-brazil-cities.csv'\n",
    "\n",
    "url3 = \"https://raw.githubusercontent.com/CSSEGISandData/COVID-19/web-data/data/cases_country.csv\"\n",
    "\n",
    "filePath3='C:/OSGeo4W64/bin/Andre/Covid-19Brazil/Tables/cases_country.csv'\n",
    "\n",
    "url4=\"https://data.humdata.org/hxlproxy/api/data-preview.csv?url=https%3A%2F%2Fraw.githubusercontent.com%2FCSSEGISandData%2FCOVID-19%2Fmaster%2Fcsse_covid_19_data%2Fcsse_covid_19_time_series%2Ftime_series_covid19_confirmed_global.csv&filename=time_series_covid19_confirmed_global.csv\"\n",
    "filePath4='C:/OSGeo4W64/bin/Andre/Covid-19Brazil/Tables/time_total_world.csv'\n",
    "\n",
    "url5=\"https://data.humdata.org/hxlproxy/api/data-preview.csv?url=https%3A%2F%2Fraw.githubusercontent.com%2FCSSEGISandData%2FCOVID-19%2Fmaster%2Fcsse_covid_19_data%2Fcsse_covid_19_time_series%2Ftime_series_covid19_confirmed_global.csv&filename=time_series_covid19_confirmed_global.csv\"\n",
    "filePath5='C:/OSGeo4W64/bin/Andre/Covid-19Brazil/Tables/time_series_covid19_confirmed_global.csv'\n",
    "\n",
    "now = datetime.now()\n",
    "d= int(now.strftime(\"%d\"))\n",
    "m=int(now.strftime(\"%m\"))\n",
    "y= int(now.strftime(\"%Y\"))\n",
    "\n",
    "if lastd<d:\n",
    "    print(lastd)\n",
    "    print(d)\n",
    "    #check if the month or year has changed\n",
    "    lastd=d\n",
    "    if lastm<m:\n",
    "        lastd=1\n",
    "    if lasty<y:\n",
    "        lastd=1\n",
    "        lastm=1\n",
    "    #---------------------------------\n",
    "    \n",
    "    if os.path.exists(filePath):\n",
    "        os.remove(filePath)\n",
    "    else:\n",
    "        print(\"Can not delete the file as it doesn't exists\")\n",
    "\n",
    "    if os.path.exists(filePath2):\n",
    "        os.remove(filePath2)\n",
    "        \n",
    "    if os.path.exists(filePath3):\n",
    "        os.remove(filePath3)\n",
    "    else:\n",
    "        print(\"Can not delete the file as it doesn't exists\")\n",
    "    try:\n",
    "        wget.download(url,filePath )\n",
    "        wget.download(url2, filePath2)\n",
    "        wget.download(url3,filePath3 )\n",
    "        wget.download(url4,filePath4 )\n",
    "        wget.download(url5,filePath5 )\n",
    "\n",
    "        print(\"\\nSuccessfully downloaded\")\n",
    "    except:\n",
    "        print(\"Download Problems\")\n",
    "else:\n",
    "    print(\"Files already recent\")\n",
    "#url = \"ftp://geoftp.ibge.gov.br/cartas_e_mapas/bases_cartograficas_continuas/bc250/versao2019/lista_de_nomes_geograficos/bc250_nomesgeograficos_2019-10-29.csv\"\n",
    "#wget.download(url, 'C:/OSGeo4W64/bin/Andre/Covid-19Brazil/Tables/bc250_nomesgeograficos_2019-10-29.csv')\n",
    "\n",
    "#url = \"ftp://geoftp.ibge.gov.br/cartas_e_mapas/bases_cartograficas_continuas/bc250/versao2019/shapefile/bc250_shapefile_06_11_2019.zip\"\n",
    "#wget.download(url, 'C:/OSGeo4W64/bin/Andre/Covid-19Brazil/Tables/bc250_shapefile_06_11_2019.zip')\n"
   ]
  },
  {
   "cell_type": "markdown",
   "metadata": {},
   "source": [
    "# Loading CSV files to a PostGreSQL database"
   ]
  },
  {
   "cell_type": "code",
   "execution_count": 48,
   "metadata": {},
   "outputs": [],
   "source": [
    "import psycopg2\n",
    "import csv\n",
    "conn = psycopg2.connect(\"host=localhost dbname=Miebiom user=postgres password=1234\")\n",
    "cur = conn.cursor()"
   ]
  },
  {
   "cell_type": "code",
   "execution_count": 49,
   "metadata": {},
   "outputs": [],
   "source": [
    "\n",
    "cur.execute(\"\"\" DROP TABLE IF EXISTS brasiltotal; \"\"\")\n",
    "conn.commit()\n"
   ]
  },
  {
   "cell_type": "code",
   "execution_count": 50,
   "metadata": {},
   "outputs": [],
   "source": [
    "\n",
    "cur.execute(\"\"\"\n",
    "    CREATE TABLE brasiltotal(\n",
    "    country text,\n",
    "    state text,\n",
    "    totalCases text,\n",
    "    totalCasesMS text,\n",
    "    notConfirmedByMS text,\n",
    "    deaths text,\n",
    "    deathsMS text,\n",
    "    URL text,\n",
    "    deaths_per_100k_inhabitants text,\n",
    "    totalCases_per_100k_inhabitants text,\n",
    "    deaths_by_totalCases text,\n",
    "    recovered text,\n",
    "    suspects text,\n",
    "    tests text,\n",
    "    tests_per_100k_inhabitants text,\n",
    "    date text,\n",
    "    newCases text, \n",
    "    newDeaths text\n",
    ")\n",
    "\"\"\")\n"
   ]
  },
  {
   "cell_type": "code",
   "execution_count": 51,
   "metadata": {},
   "outputs": [
    {
     "name": "stdout",
     "output_type": "stream",
     "text": [
      "['Brazil', 'TOTAL', '469850', '465166', '4684', '28006', '27878', 'https://covid.saude.gov.br/', '13.32685', '223.58146', '0.05961', '215630', '442448', '1084104', '515.87858', '2020-05-29', '26517', '1146']\n",
      "['Brazil', 'AC', '5841', '5841', '0', '135', '135', 'http://saude.acre.gov.br/', '15.30725', '662.29371', '0.02311', '2163', '148', '12693', '1439.22171', '2020-05-29', '241', '13']\n",
      "['Brazil', 'AL', '8619', '8618', '1', '406', '406', 'http://cidadao.saude.al.gov.br/', '12.16532', '258.25826', '0.04711', '5067', '1230', '13764', '412.42217', '2020-05-29', '564', '21']\n",
      "['Brazil', 'AM', '38909', '38909', '0', '2011', '2011', 'http://www.amazonas.am.gov.br/', '48.52100', '938.78850', '0.05168', '31121', '558', '71077', '1714.93151', '2020-05-29', '2763', '47']\n",
      "['Brazil', 'AP', '8469', '8469', '0', '207', '207', 'https://saude.portal.ap.gov.br/', '24.47587', '1001.38224', '0.02444', '3534', '9759', '25311', '2992.79558', '2020-05-29', '317', '9']\n",
      "['Brazil', 'BA', '16917', '16917', '0', '609', '609', 'http://www.saude.ba.gov.br/', '4.09465', '113.74253', '0.03600', '5502', '52594', '109824', '738.40871', '2020-05-29', '954', '39']\n",
      "['Brazil', 'CE', '38395', '38395', '0', '2859', '2859', 'https://www.saude.ce.gov.br', '31.30722', '420.44100', '0.07446', '25858', '46727', '93466', '1023.49104', '2020-05-29', '574', '126']\n",
      "['Brazil', 'DF', '8722', '8722', '0', '154', '154', 'http://www.saude.df.gov.br/coronavirus/', '5.10734', '289.26119', '0.01766', '4740', '1049', '140151', '4648.04455', '2020-05-29', '422', '12']\n",
      "['Brazil', 'ES', '13161', '12903', '258', '569', '560', 'https://saude.es.gov.br/', '14.15898', '327.49804', '0.04323', '7351', '', '45955', '1143.54323', '2020-05-29', '958', '31']\n",
      "['Brazil', 'GO', '3521', '3319', '202', '122', '119', 'http://www.saude.go.gov.br/', '1.73830', '50.16846', '0.03465', '', '21887', '12801', '182.39319', '2020-05-29', '420', '7']\n",
      "['Brazil', 'MA', '32620', '30482', '2138', '932', '911', 'http://www.saude.ma.gov.br/', '13.17281', '461.04828', '0.02857', '8639', '1730', '52012', '735.13314', '2020-05-29', '2138', '21']\n",
      "['Brazil', 'MG', '9232', '9232', '0', '257', '257', 'https://www.saude.mg.gov.br/', '1.21405', '43.61137', '0.02784', '4333', '101572', '21327', '100.74737', '2020-05-29', '546', '2']\n",
      "['Brazil', 'MS', '1356', '1356', '0', '18', '18', 'http://www.ms.gov.br/', '0.64772', '48.79478', '0.01327', '451', '385', '10554', '379.77881', '2020-05-29', '94', '0']\n",
      "['Brazil', 'MT', '2262', '2103', '159', '57', '56', 'http://www.saude.mt.gov.br/', '1.63583', '64.91669', '0.02520', '658', '320', '7330', '210.36222', '2020-05-29', '311', '6']\n",
      "['Brazil', 'PA', '37296', '36486', '810', '2900', '2827', 'http://www.saude.pa.gov.br', '33.70970', '433.52999', '0.07776', '25463', '131', '42694', '496.27653', '2020-05-29', '2164', '141']\n",
      "['Brazil', 'PB', '12011', '12011', '0', '327', '327', 'https://paraiba.pb.gov.br/', '8.13812', '298.92037', '0.02723', '2435', '', '42170', '1049.49396', '2020-05-29', '879', '9']\n",
      "['Brazil', 'PE', '32255', '32255', '0', '2669', '2669', 'http://www.pe.gov.br/blog/saude/', '27.92697', '337.49880', '0.08275', '12835', '507', '51928', '543.34639', '2020-05-29', '1542', '103']\n",
      "['Brazil', 'PI', '4745', '4503', '242', '157', '146', 'https://www.pi.gov.br/noticias', '4.79649', '144.96398', '0.03309', '456', '172', '42152', '1287.78114', '2020-05-29', '242', '11']\n",
      "['Brazil', 'PR', '4300', '4236', '64', '178', '173', 'http://www.saude.pr.gov.br/', '1.55677', '37.60728', '0.04140', '1863', '2063', '31994', '279.81564', '2020-05-29', '259', '4']\n",
      "['Brazil', 'RJ', '47953', '47953', '0', '5079', '5079', 'http://www.rj.gov.br/', '29.41799', '277.74780', '0.10592', '34136', '', '', '', '2020-05-29', '3067', '223']\n",
      "['Brazil', 'RN', '6463', '6463', '0', '268', '268', 'http://www.natal.rn.gov.br/', '7.64218', '184.29629', '0.04147', '1410', '14906', '19015', '542.22404', '2020-05-29', '2', '0']\n",
      "['Brazil', 'RO', '4502', '4502', '0', '145', '145', 'http://www.rondonia.ro.gov.br/', '8.15879', '253.31627', '0.03221', '2075', '529', '15240', '857.51663', '2020-05-29', '250', '3']\n",
      "['Brazil', 'RR', '3299', '3098', '201', '110', '108', 'https://saude.rr.gov.br/', '18.15898', '544.60423', '0.03334', '1151', '', '5129', '846.70357', '2020-05-29', '340', '8']\n",
      "['Brazil', 'RS', '8843', '8234', '609', '216', '213', 'https://saude.rs.gov.br', '1.89853', '77.72536', '0.02443', '6246', '457', '69461', '610.52598', '2020-05-29', '609', '3']\n",
      "['Brazil', 'SC', '8530', '8530', '0', '134', '134', 'http://www.saude.sc.gov.br', '1.87026', '119.05446', '0.01571', '4818', '642', '39671', '553.69398', '2020-05-29', '530', '3']\n",
      "['Brazil', 'SE', '6462', '6462', '0', '142', '142', 'https://www.se.gov.br/noticias/saude', '6.17742', '281.11590', '0.02197', '2431', '', '17871', '777.44078', '2020-05-29', '306', '7']\n",
      "['Brazil', 'SP', '101556', '101556', '0', '7275', '7275', 'http://www.saopaulo.sp.gov.br/', '15.84310', '221.16312', '0.07164', '19665', '185082', '87463', '190.47215', '2020-05-29', '5691', '295']\n",
      "['Brazil', 'TO', '3611', '3611', '0', '70', '70', 'http://www.saude.to.gov.br/', '4.45047', '229.58091', '0.01939', '1229', '', '3051', '193.97711', '2020-05-29', '334', '2']\n"
     ]
    }
   ],
   "source": [
    "\n",
    "\n",
    "\n",
    "with open('C:/OSGeo4W64/bin/Andre/Covid-19Brazil/Tables/cases-brazil-total.csv', 'r') as f:\n",
    "    reader = csv.reader(f)\n",
    "    next(reader) # Skip the header row.\n",
    "    for row in reader:\n",
    "        print(row)\n",
    "        cur.execute(\n",
    "        \"INSERT INTO brasiltotal VALUES ( %s, %s, %s, %s, %s, %s, %s, %s,%s, %s, %s, %s, %s, %s, %s, %s, %s, %s)\",\n",
    "        row\n",
    "    )\n",
    "\n",
    "    "
   ]
  },
  {
   "cell_type": "code",
   "execution_count": 52,
   "metadata": {},
   "outputs": [],
   "source": [
    "conn.commit()"
   ]
  },
  {
   "cell_type": "code",
   "execution_count": 56,
   "metadata": {},
   "outputs": [],
   "source": [
    "import psycopg2\n",
    "conn = psycopg2.connect(\"host=localhost dbname=Miebiom user=postgres password=1234\")\n",
    "cur = conn.cursor()\n",
    "cur.execute(\"\"\" DROP TABLE IF EXISTS brasilcasescities; \"\"\")\n",
    "conn.commit()"
   ]
  },
  {
   "cell_type": "code",
   "execution_count": 57,
   "metadata": {},
   "outputs": [],
   "source": [
    "\n",
    "\n",
    "cur.execute(\"\"\"\n",
    "    CREATE TABLE brasilcasescities(\n",
    "    country text, \n",
    "    state text,\n",
    "    city text,\n",
    "    ibgeID text,\n",
    "    deaths text,\n",
    "    totalCases text,\n",
    "    deaths_per_100k_inhabitants text,\n",
    "    totalCases_per_100k_inhabitants text,\n",
    "    deaths_by_totalCases text,\n",
    "    _source text,\n",
    "    date text, \n",
    "    newCases text,\n",
    "    newDeaths text\n",
    ")\n",
    "\"\"\")\n",
    "\n",
    "with open('C:/OSGeo4W64/bin/Andre/Covid-19Brazil/Tables/cases-brazil-cities.csv', 'rt', encoding='utf-8') as f:\n",
    "    reader = csv.reader(f)\n",
    "    next(reader) # Skip the header row.\n",
    "    for row in reader:\n",
    "        cur.execute(\n",
    "        \"INSERT INTO brasilcasescities VALUES ( %s, %s, %s, %s, %s, %s, %s, %s, %s, %s, %s, %s, %s)\",\n",
    "        row\n",
    "    )\n",
    "\n",
    "    "
   ]
  },
  {
   "cell_type": "code",
   "execution_count": 58,
   "metadata": {},
   "outputs": [],
   "source": [
    "conn.commit()"
   ]
  },
  {
   "cell_type": "code",
   "execution_count": 91,
   "metadata": {},
   "outputs": [],
   "source": [
    "import psycopg2\n",
    "import csv\n",
    "\n",
    "conn = psycopg2.connect(\"host=localhost dbname=Miebiom user=postgres password=1234\")\n",
    "cur = conn.cursor()\n",
    "cur.execute(\"\"\" DROP TABLE IF EXISTS worldcases; \"\"\")\n",
    "conn.commit()"
   ]
  },
  {
   "cell_type": "code",
   "execution_count": 92,
   "metadata": {},
   "outputs": [],
   "source": [
    "cur.execute(\"\"\"\n",
    "    CREATE TABLE worldcases(\n",
    "    Country_Region text, \n",
    "    Last_Update text,\n",
    "    Lat text,\n",
    "    Long_ text,\n",
    "    Confirmed INT ,\n",
    "    Deaths INT ,\n",
    "    Recovered INT ,\n",
    "    Active INT \n",
    "    \n",
    "    \n",
    ")\n",
    "\"\"\")\n",
    "\n"
   ]
  },
  {
   "cell_type": "code",
   "execution_count": null,
   "metadata": {},
   "outputs": [],
   "source": [
    "with open('C:/OSGeo4W64/bin/Andre/Covid-19Brazil/Tables/cases_country.csv', 'rt', encoding='utf-8') as f:\n",
    "    reader = csv.reader(f)\n",
    "    next(reader) # Skip the header row.\n",
    "    for row in reader:\n",
    "       \n",
    "        #print(row[0], row[1], row[2], row[3], row[4].split(\".\")[0], row[5], row[6],row[7])\n",
    "\n",
    "        cur.execute(\n",
    "        \"INSERT INTO worldcases VALUES ( %s, %s, %s, %s, %s, %s, %s, %s)\",\n",
    "        (row[0], row[1], row[2], row[3], row[4].split(\".\")[0], row[5].split(\".\")[0], row[6].split(\".\")[0],row[7].split(\".\")[0]))\n",
    "        \n",
    "     \n",
    "    "
   ]
  },
  {
   "cell_type": "code",
   "execution_count": 94,
   "metadata": {},
   "outputs": [],
   "source": [
    "conn.commit()"
   ]
  },
  {
   "cell_type": "code",
   "execution_count": null,
   "metadata": {},
   "outputs": [],
   "source": []
  }
 ],
 "metadata": {
  "kernelspec": {
   "display_name": "Python 3",
   "language": "python",
   "name": "python3"
  },
  "language_info": {
   "codemirror_mode": {
    "name": "ipython",
    "version": 3
   },
   "file_extension": ".py",
   "mimetype": "text/x-python",
   "name": "python",
   "nbconvert_exporter": "python",
   "pygments_lexer": "ipython3",
   "version": "3.7.0"
  }
 },
 "nbformat": 4,
 "nbformat_minor": 2
}
